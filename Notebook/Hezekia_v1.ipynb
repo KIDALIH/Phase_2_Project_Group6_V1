{
 "cells": [
  {
   "cell_type": "markdown",
   "metadata": {},
   "source": [
    "# SETTING UP A FILM STUDIO & GENERATING CONTENT"
   ]
  },
  {
   "cell_type": "markdown",
   "metadata": {},
   "source": [
    "## INTRODUCTION"
   ]
  },
  {
   "cell_type": "markdown",
   "metadata": {},
   "source": [
    "We as a company , in the pursuit of diversification, have commissioned setting up a movie studio in order to create original content and generate revenue for the company.The film industry is a good fit for our company strategy.It is therefore necessary to undertake a pre-entry business viability assessment as an important and effective management approach in the new enterprise.The analysis uses data from the global film industry between 2010 to 2019."
   ]
  },
  {
   "cell_type": "markdown",
   "metadata": {},
   "source": [
    "## BACKGROUND"
   ]
  },
  {
   "cell_type": "markdown",
   "metadata": {},
   "source": [
    "According to Wikipidea ,the global film industry was worth over USD 42 billion in 2019 with the largest markets being the United States , Asia-pacific , the UK and Europe.\n",
    "The industry comprises various film genres such as action,crime,animated,comedy,drama,fantasy,horror and documentary.\n",
    "A film genre is defined as a stylistic or thematic category for motion pictures based on similarities either in the narrative elements, aesthetic approach, or the emotional response to the film."
   ]
  },
  {
   "cell_type": "markdown",
   "metadata": {},
   "source": [
    "## DATA OVERVIEW"
   ]
  },
  {
   "cell_type": "markdown",
   "metadata": {},
   "source": [
    "The project uses 2010 to 2019 data from IMDb movies ratings and reviews mined from www.imdb.com website.The data comprises movie basics, movie ratings, genre, runtime, directors and writers among others.\n",
    "The data is cleaned , analysed and the findings used to inform decision making."
   ]
  },
  {
   "cell_type": "markdown",
   "metadata": {},
   "source": [
    "## DESCRIPTION OF VARIABLES"
   ]
  },
  {
   "cell_type": "markdown",
   "metadata": {},
   "source": [
    "**\n",
    "*1.Genre- a style or category of a movie e.g. action, horror, comedy, drama e.t.c.\n",
    "*2.Runtime- This is the lenght of the movie.\n",
    "*3.Ratings- ranking of the movie in the box office.\n",
    "*4.Director profession-the occupation of the movie directors.\n",
    "*5.Ordering- The number of movies ordered.\n",
    "*6.Region- The geographical area to be targeted."
   ]
  },
  {
   "cell_type": "markdown",
   "metadata": {},
   "source": [
    "## BUSINESS PROBLEM"
   ]
  },
  {
   "cell_type": "markdown",
   "metadata": {},
   "source": [
    "Major companies are producing original video content and  the company wants to enter the film production industry by establishing a new movie studio. However, the company lacks filmmaking experience and therefore necessary to undertake this project to inform the decision to open a new studio.Therefore, the primary challenge is to overcome this lack of experience and create a successful movie studio that produces high-quality movies that appeal to a wide audience. The management will utilise the results and findings of this analysis to guide on the content to be produced by the new studio."
   ]
  },
  {
   "cell_type": "markdown",
   "metadata": {},
   "source": [
    "## OBJECTIVES"
   ]
  },
  {
   "cell_type": "markdown",
   "metadata": {},
   "source": [
    "1.Explore film genres that are marketable to the company.\n",
    "2.To determine the appropriate movie runtime.\n",
    "3.Determine which region to target.\n",
    "4.The most suitable primary profession of the movie director to employ."
   ]
  },
  {
   "cell_type": "markdown",
   "metadata": {},
   "source": [
    "## METHODOLOGY"
   ]
  },
  {
   "cell_type": "markdown",
   "metadata": {},
   "source": [
    "This project uses secondary data sourced from IMDb website.The project utilises EDA to generate insights and the data is analysed using python libraries."
   ]
  },
  {
   "cell_type": "markdown",
   "metadata": {},
   "source": [
    "## DATA ANALYSIS"
   ]
  },
  {
   "cell_type": "code",
   "execution_count": 1,
   "metadata": {},
   "outputs": [],
   "source": [
    "# import libraries\n",
    "import itertools\n",
    "import numpy as np\n",
    "import pandas as pd\n",
    "from numbers import Number\n",
    "import sqlite3\n",
    "from scipy import stats\n",
    "import matplotlib.pyplot as plt\n",
    "import seaborn as sns"
   ]
  },
  {
   "cell_type": "code",
   "execution_count": null,
   "metadata": {},
   "outputs": [],
   "source": []
  }
 ],
 "metadata": {
  "kernelspec": {
   "display_name": "Python (learn-env)",
   "language": "python",
   "name": "learn-env"
  },
  "language_info": {
   "codemirror_mode": {
    "name": "ipython",
    "version": 3
   },
   "file_extension": ".py",
   "mimetype": "text/x-python",
   "name": "python",
   "nbconvert_exporter": "python",
   "pygments_lexer": "ipython3",
   "version": "3.8.5"
  }
 },
 "nbformat": 4,
 "nbformat_minor": 4
}
